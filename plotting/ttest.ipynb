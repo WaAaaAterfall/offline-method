{
 "cells": [
  {
   "cell_type": "code",
   "execution_count": 73,
   "metadata": {},
   "outputs": [],
   "source": [
    "import numpy as np\n",
    "from scipy import stats"
   ]
  },
  {
   "cell_type": "code",
   "execution_count": 74,
   "metadata": {},
   "outputs": [],
   "source": [
    "def fit_line(stim_ests):\n",
    "    #print(\"input stim_ests: \", np.shape(stim_ests))\n",
    "    num_neuron = np.shape(stim_ests)[0]\n",
    "    num_stim = 8\n",
    "    baseline_start = 0\n",
    "    baseline_duration = 7\n",
    "    on_duration = 7\n",
    "    on_start = 7\n",
    "    response = stim_ests[:, baseline_start : baseline_start + baseline_duration]\n",
    "    #print(\"ests? \", response, on_ests)\n",
    "    regressor = np.linspace(baseline_start, baseline_duration - 1, baseline_duration)\n",
    "    #print(\"input regressor and response shape for line fitting: \", np.shape(regressor), np.shape(response))\n",
    "    coefficients = np.polyfit(regressor, response.T, deg=1).T\n",
    "    res = stim_ests[:, baseline_start:baseline_start + baseline_duration] - [(regressor * coefficients[i, 0] + coefficients[i,1]) for i in range(num_neuron)]\n",
    "    #print(\"maybe problem with res? \", res, np.shape(res))\n",
    "    std = np.std(res, axis = 1, ddof=1)\n",
    "    #print(\"okmaybe its std:\\n\", std, np.shape(std))\n",
    "    total_regressor = np.linspace(0, 20, 21)\n",
    "    frame_baseline = [(total_regressor * coefficients[i, 0] + coefficients[i,1] + 1.8*std[i]) for i in range(num_neuron)]\n",
    "    print(\"get the shape of frame baseline \\n\", np.shape(frame_baseline))\n",
    "    remains = stim_ests - frame_baseline\n",
    "    avg_remains = np.mean(remains[:, 7:14], axis = 1)\n",
    "    print(\"get the shape of frame remains \", np.shape(avg_remains))\n",
    "    return avg_remains, remains"
   ]
  },
  {
   "cell_type": "code",
   "execution_count": 75,
   "metadata": {},
   "outputs": [],
   "source": [
    "def fit_line_const(stim_ests):\n",
    "    #print(\"input stim_ests: \", np.shape(stim_ests))\n",
    "    num_neuron = np.shape(stim_ests)[0]\n",
    "    num_stim = 8\n",
    "    baseline_start = 0\n",
    "    baseline_duration = 7\n",
    "    on_duration = 7\n",
    "    on_start = 7\n",
    "    coefficient = np.zeros((num_neuron, 3))\n",
    "    response = stim_ests[:, baseline_start : baseline_start + baseline_duration]\n",
    "    on_ests = stim_ests[:, on_start : on_start + on_duration]\n",
    "    on_regressor = np.linspace(on_start, on_start + on_duration - 1, on_duration)\n",
    "    #print(\"ests? \", response, on_ests)\n",
    "    regressor = np.linspace(baseline_start, baseline_duration - 1, baseline_duration)\n",
    "    #print(\"input regressor and response shape for line fitting: \", np.shape(regressor), np.shape(response))\n",
    "    coefficients = np.polyfit(regressor, response.T, deg=0).T\n",
    "    res = stim_ests[:, baseline_start:baseline_start + baseline_duration] - (coefficients[:,0])[:, np.newaxis]\n",
    "    #print(\"maybe problem with res? \", res, np.shape(res))\n",
    "    std = np.std(res, axis = 1, ddof=1)\n",
    "    #print(\"okmaybe its std:\\n\", std, np.shape(std))\n",
    "    #logger.info(\"std shape for line fitting:{0}, {1}\".format(np.shape(std), std))\n",
    "    frame_baseline = coefficients[:,0] + 1.8 * std\n",
    "    remains = stim_ests - frame_baseline[:, np.newaxis]\n",
    "    avg_remains = np.mean(remains[:, 7:14], axis = 1)\n",
    "    #print(\"get the shape of frame remains \", np.shape(avg_remains))\n",
    "    return avg_remains, remains"
   ]
  },
  {
   "cell_type": "code",
   "execution_count": 76,
   "metadata": {},
   "outputs": [],
   "source": [
    "def baseline_cal(p_t):\n",
    "    num_stim = 8\n",
    "    num_trial = 3\n",
    "    num_neurons = np.shape(p_t)[0]\n",
    "    res_stim = np.zeros((num_neurons, num_trial, num_stim))\n",
    "    baseline_remains = np.zeros((num_neurons, 63, num_stim))\n",
    "    for stim in range(num_stim):\n",
    "        for trial in range(3):\n",
    "            new_res, remains = fit_line(p_t[:, trial, stim*21: (stim+1)*21])\n",
    "            baseline_remains[:, trial*21:(trial+1)*21, stim] = np.copy(remains)\n",
    "            res_stim[:, trial, stim] = (res_stim[:, trial, stim] * trial + new_res) / (trial+1)\n",
    "    res_stim = np.where(np.isnan(res_stim), 0, res_stim)\n",
    "    res_stim[res_stim == np.inf] = 0\n",
    "    res_avg = np.mean(res_stim, axis = 1)\n",
    "    #print(\"the shape for res_avg: \", np.shape(res_avg))\n",
    "    barcode = np.where(res_avg > 0, 1, 0)\n",
    "    return res_avg, barcode, baseline_remains\n",
    "\n",
    "def baseline_const_cal(p_t):\n",
    "    num_stim = 8\n",
    "    num_trial = 3\n",
    "    num_neurons = np.shape(p_t)[0]\n",
    "    res_stim = np.zeros((num_neurons, num_trial, num_stim))\n",
    "    baseline_remains = np.zeros((num_neurons, 63, num_stim))\n",
    "    for stim in range(num_stim):\n",
    "        for trial in range(3):\n",
    "            new_res, remains = fit_line_const(p_t[:, trial, stim*21: (stim+1)*21])\n",
    "            baseline_remains[:, trial*21:(trial+1)*21, stim] = np.copy(remains)\n",
    "            res_stim[:, trial, stim] = (res_stim[:, trial, stim] * trial + new_res) / (trial+1)\n",
    "    res_stim = np.where(np.isnan(res_stim), 0, res_stim)\n",
    "    res_stim[res_stim == np.inf] = 0\n",
    "    res_avg = np.mean(res_stim, axis = 1)\n",
    "    #print(\"the shape for res_avg: \", np.shape(res_stim), np.shape(res_avg))\n",
    "    barcode = np.where(res_avg > 0, 1, 0)\n",
    "    return res_avg, barcode, baseline_remains"
   ]
  },
  {
   "cell_type": "code",
   "execution_count": 77,
   "metadata": {},
   "outputs": [],
   "source": [
    "def cal_pvalue(p_t):\n",
    "    num_neurons = np.shape(p_t)[0]\n",
    "    t_stats = []\n",
    "    p_values = []\n",
    "    ci_baseline_record = np.zeros((num_neurons, 2, 8))\n",
    "    ci_on_record = np.zeros((num_neurons, 2, 8))\n",
    "    mean_baseline_record = np.zeros((num_neurons, 8))\n",
    "    mean_on_record = np.zeros((num_neurons, 8))\n",
    "    for stim in range(8):\n",
    "        pt_baseline = p_t[:, :, 21*stim : (21*(stim) + 7)]\n",
    "        pt_on = p_t[:, :, (21*stim + 7) : (21*stim + 14)]\n",
    "        #print(\"??????error?, \", np.shape(pt_baseline), np.shape(pt_on))\n",
    "        pt_baseline_mean = np.mean(pt_baseline, axis = 2)\n",
    "        pt_on_mean = np.mean(pt_on, axis = 2)\n",
    "        #print(\"??????another errors?, \", np.shape(pt_baseline_mean), np.shape(pt_on_mean))\n",
    "        mean_baseline_record[:, stim] = np.mean(pt_baseline_mean, axis = 1)\n",
    "        mean_on_record[:, stim] = np.mean(pt_on_mean, axis = 1)\n",
    "        for neuron in range(num_neurons):\n",
    "            # if neuron == 47:\n",
    "            #     print(\"aaaaaaaaaaaah, \", pt_baseline_mean[neuron], pt_on_mean[neuron], pt_baseline[neuron, :, ])\n",
    "            #print(\"sanity test: \", np.shape(pt_baseline_mean[neuron]), pt_on_mean[neuron])\n",
    "            ci_baseline = stats.t.interval(alpha=0.95,df=2,loc=np.mean(pt_baseline_mean[neuron]), scale=stats.sem(pt_baseline_mean[neuron]))\n",
    "            #print(\"the shape of ci_baseline is \", ci_baseline, np.shape(np.array(ci_baseline)))\n",
    "            ci_baseline_record[neuron, :, stim] = np.array([ci_baseline[0], ci_baseline[1]])\n",
    "            ci_on = stats.t.interval(alpha=0.95,df=2,loc=np.mean(pt_on_mean[neuron]), scale=stats.sem(pt_on_mean[neuron]))\n",
    "            assert((mean_baseline_record[neuron, stim] == np.mean(pt_baseline_mean[neuron])) and (mean_on_record[neuron, stim] == np.mean(pt_on_mean[neuron])))\n",
    "            #print(\"the shape of ci_on is \", ci_on, np.shape(np.array(ci_on)))\n",
    "            ci_on_record[neuron, :, stim] = np.array([ci_on[0], ci_on[1]])\n",
    "        stat_res = stats.ttest_rel(pt_baseline_mean, pt_on_mean, axis = 1)\n",
    "        t_stat = np.array(stat_res[0])\n",
    "        p_value = np.array(stat_res[1])\n",
    "        invalid_index = np.where(mean_on_record[:, stim] < mean_baseline_record[:, stim])\n",
    "        p_value[invalid_index] = -1\n",
    "        print(np.shape(p_value))\n",
    "        t_stats.append(t_stat)\n",
    "        p_values.append(p_value)\n",
    "    t_stats = np.array(t_stats).T\n",
    "    p_values = np.array(p_values).T\n",
    "    return t_stats, p_values, ci_baseline_record, ci_on_record, mean_baseline_record, mean_on_record"
   ]
  },
  {
   "cell_type": "code",
   "execution_count": 78,
   "metadata": {},
   "outputs": [],
   "source": [
    "def correlate_cal(pt_all):\n",
    "    num_neurons = np.shape(pt_all)[0]\n",
    "    slope_record = np.zeros((num_neurons, 3, 8))\n",
    "    intercept_record = np.zeros((num_neurons, 3, 8))\n",
    "    for trial in range(3):\n",
    "        for stim in range(8):\n",
    "            pt = pt_all[:, trial, 21*stim : 21*(stim + 1)]\n",
    "            pt_base = pt[:, :7]\n",
    "            pt_on = pt[:, 7:14]\n",
    "            regressor = np.linspace(7, 13, 7)\n",
    "            #print(\"input regressor and response shape for line fitting: \", np.shape(regressor), np.shape(response))\n",
    "            coefficients = np.polyfit(regressor, pt_on.T, deg=1).T\n",
    "            #print(\"??????? coefficients shape\", np.shape(coefficients))\n",
    "            slope = coefficients[:,0]\n",
    "            intercept = coefficients[:,1]\n",
    "            slope_record[:, trial, stim] = np.copy(slope)\n",
    "            intercept_record[:, trial, stim] = np.copy(intercept)\n",
    "    return slope_record, intercept_record\n"
   ]
  },
  {
   "cell_type": "code",
   "execution_count": 79,
   "metadata": {},
   "outputs": [],
   "source": [
    "def cal_correlate_pvalue(slope):\n",
    "    num_neurons = np.shape(slope)[0]\n",
    "    p_record = np.zeros((num_neurons, 8))\n",
    "    ci_record = np.zeros((num_neurons, 2, 8))\n",
    "    slope_mean_record = np.zeros((num_neurons, 8))\n",
    "    for stim in range(8):\n",
    "        rvs = slope[:, :, stim]\n",
    "        res = stats.ttest_1samp(rvs, popmean=0, axis = 1)\n",
    "        for neuron in range(num_neurons):\n",
    "            ci = stats.t.interval(alpha=0.95,df=2,loc=np.mean(rvs[neuron]), scale=stats.sem(rvs[neuron]))\n",
    "            #print(\"the shape of ci is \", ci, ci[0], np.shape(np.array(ci)))\n",
    "            ci_record[neuron, :, stim] = np.array([ci[0], ci[1]])\n",
    "        p_value = np.copy(res[1])\n",
    "        invalid_index = np.where(np.mean(rvs, axis = 1) < 0)\n",
    "        p_value[invalid_index] = -1\n",
    "        p_record[:, stim] = p_value\n",
    "        slope_mean_record[:, stim] = np.mean(rvs, axis = 1)\n",
    "    return p_record, ci_record, slope_mean_record\n",
    "    "
   ]
  },
  {
   "cell_type": "code",
   "execution_count": null,
   "metadata": {},
   "outputs": [],
   "source": [
    "plane_index = 3"
   ]
  },
  {
   "cell_type": "code",
   "execution_count": 80,
   "metadata": {},
   "outputs": [],
   "source": [
    "pt_all = np.load(f'data/p{plane_index}/p{plane_index}_stim_preprocessed.npy')"
   ]
  },
  {
   "cell_type": "code",
   "execution_count": 81,
   "metadata": {},
   "outputs": [
    {
     "name": "stdout",
     "output_type": "stream",
     "text": [
      "3.1069778244268216 -0.5655099740483811\n"
     ]
    }
   ],
   "source": [
    "print(np.max(pt_all), np.min(pt_all))"
   ]
  },
  {
   "cell_type": "code",
   "execution_count": 82,
   "metadata": {},
   "outputs": [
    {
     "data": {
      "text/plain": [
       "(324, 3, 336)"
      ]
     },
     "execution_count": 82,
     "metadata": {},
     "output_type": "execute_result"
    }
   ],
   "source": [
    "np.shape(pt_all)\n",
    "#np.shape(select_pt)"
   ]
  },
  {
   "cell_type": "code",
   "execution_count": 83,
   "metadata": {},
   "outputs": [
    {
     "name": "stdout",
     "output_type": "stream",
     "text": [
      "get the shape of frame baseline \n",
      " (324, 21)\n",
      "get the shape of frame remains  (324,)\n",
      "get the shape of frame baseline \n",
      " (324, 21)\n",
      "get the shape of frame remains  (324,)\n",
      "get the shape of frame baseline \n",
      " (324, 21)\n",
      "get the shape of frame remains  (324,)\n",
      "get the shape of frame baseline \n",
      " (324, 21)\n",
      "get the shape of frame remains  (324,)\n",
      "get the shape of frame baseline \n",
      " (324, 21)\n",
      "get the shape of frame remains  (324,)\n",
      "get the shape of frame baseline \n",
      " (324, 21)\n",
      "get the shape of frame remains  (324,)\n",
      "get the shape of frame baseline \n",
      " (324, 21)\n",
      "get the shape of frame remains  (324,)\n",
      "get the shape of frame baseline \n",
      " (324, 21)\n",
      "get the shape of frame remains  (324,)\n",
      "get the shape of frame baseline \n",
      " (324, 21)\n",
      "get the shape of frame remains  (324,)\n",
      "get the shape of frame baseline \n",
      " (324, 21)\n",
      "get the shape of frame remains  (324,)\n",
      "get the shape of frame baseline \n",
      " (324, 21)\n",
      "get the shape of frame remains  (324,)\n",
      "get the shape of frame baseline \n",
      " (324, 21)\n",
      "get the shape of frame remains  (324,)\n",
      "get the shape of frame baseline \n",
      " (324, 21)\n",
      "get the shape of frame remains  (324,)\n",
      "get the shape of frame baseline \n",
      " (324, 21)\n",
      "get the shape of frame remains  (324,)\n",
      "get the shape of frame baseline \n",
      " (324, 21)\n",
      "get the shape of frame remains  (324,)\n",
      "get the shape of frame baseline \n",
      " (324, 21)\n",
      "get the shape of frame remains  (324,)\n",
      "get the shape of frame baseline \n",
      " (324, 21)\n",
      "get the shape of frame remains  (324,)\n",
      "get the shape of frame baseline \n",
      " (324, 21)\n",
      "get the shape of frame remains  (324,)\n",
      "get the shape of frame baseline \n",
      " (324, 21)\n",
      "get the shape of frame remains  (324,)\n",
      "get the shape of frame baseline \n",
      " (324, 21)\n",
      "get the shape of frame remains  (324,)\n",
      "get the shape of frame baseline \n",
      " (324, 21)\n",
      "get the shape of frame remains  (324,)\n",
      "get the shape of frame baseline \n",
      " (324, 21)\n",
      "get the shape of frame remains  (324,)\n",
      "get the shape of frame baseline \n",
      " (324, 21)\n",
      "get the shape of frame remains  (324,)\n",
      "get the shape of frame baseline \n",
      " (324, 21)\n",
      "get the shape of frame remains  (324,)\n",
      "(324,)\n",
      "(324,)\n",
      "(324,)\n",
      "(324,)\n",
      "(324,)\n",
      "(324,)\n",
      "(324,)\n",
      "(324,)\n"
     ]
    }
   ],
   "source": [
    "fit_line_res_avg, fit_line_barcode, fit_line_remains = baseline_cal(pt_all)\n",
    "fit_avg_res_avg, fit_avg_barcode, fit_avg_remains = baseline_const_cal(pt_all)\n",
    "\n",
    "trial_avg_t, trial_avg_p, ci_baseline_record, ci_on_record, mean_baseline_record, mean_on_record = cal_pvalue(pt_all)\n",
    "\n",
    "slope_record, intercept_record = correlate_cal(pt_all)\n",
    "correlate_p, correlate_ci, correlate_mean = cal_correlate_pvalue(slope_record)"
   ]
  },
  {
   "cell_type": "code",
   "execution_count": 84,
   "metadata": {},
   "outputs": [
    {
     "name": "stdout",
     "output_type": "stream",
     "text": [
      "(324, 3, 8)\n"
     ]
    }
   ],
   "source": [
    "print(np.shape(slope_record))\n",
    "print(np.shape(trial_avg_p))\n",
    "print(np.shape(correlate_p))\n",
    "print(np.shape(fit_line_barcode))\n",
    "print(np.shape(fit_avg_barcode))"
   ]
  },
  {
   "cell_type": "code",
   "execution_count": null,
   "metadata": {},
   "outputs": [],
   "source": [
    "np.save(f'data/p{plane_index}/ttest_out/slope_record.npy', slope_record)\n",
    "np.save(f'data/p{plane_index}/ttest_out/trial_avg_p.npy', trial_avg_p)\n",
    "np.save(f'data/p{plane_index}/ttest_out/correlate_p.npy', correlate_p)\n",
    "np.save(f'data/p{plane_index}/ttest_out/fit_line_barcode.npy', fit_line_barcode)\n",
    "np.save(f'data/p{plane_index}/ttest_out/fit_avg_barcode.npy', fit_avg_barcode)"
   ]
  },
  {
   "cell_type": "code",
   "execution_count": null,
   "metadata": {},
   "outputs": [],
   "source": [
    "import matplotlib.pyplot as plt\n",
    "num_neurons = np.shape(pt_all)[0]\n",
    "for neuron in range(num_neurons): #index_responsive[0][10:30]:\n",
    "    rows, cols = 5, 8\n",
    "    fig,ax = plt.subplots(rows, cols, figsize=(30, 15))\n",
    "    x = np.linspace(0, 20, num=21)\n",
    "    x_2 = np.linspace(0, 23, num=14)\n",
    "    for stim in range(8):\n",
    "        ot_record = pt_all[neuron, :, stim*21 : stim*21+21]\n",
    "        ax[0, stim].set_ylim(-1, 4)\n",
    "        ax[0, stim].axvline(x=7, color='r', linestyle='--')\n",
    "        ax[0, stim].axvline(x=14, color='g', linestyle='--')\n",
    "        for trial in range(3):   \n",
    "            ax[0, stim].plot(x, ot_record[trial], linestyle='-')\n",
    "        \n",
    "        ot_fit_line_record = fit_line_remains[neuron, :,stim]\n",
    "        ax[1, stim].text(2, 2, f'{round(fit_line_res_avg[neuron, stim], 3)}', horizontalalignment='center', verticalalignment='center')\n",
    "        if fit_line_barcode[neuron, stim] == 1:\n",
    "            ax[1, stim].set_facecolor('#FCFBEE')\n",
    "        ax[1, stim].set_ylim(-3, 3)\n",
    "        ax[1, stim].axvline(x=7, color='r', linestyle='--')\n",
    "        ax[1, stim].axvline(x=14, color='g', linestyle='--')\n",
    "        ax[1, stim].axhline(y=0, color='grey', linestyle='--')\n",
    "        for trial in range(3):   \n",
    "            ax[1, stim].plot(x, ot_fit_line_record[trial*21:trial*21+21], linestyle='-')\n",
    "\n",
    "        ot_fit_avg_record = fit_avg_remains[neuron, :, stim]\n",
    "        ax[2, stim].text(2, 2, f'{round(fit_avg_res_avg[neuron, stim], 3)}', horizontalalignment='center', verticalalignment='center')\n",
    "        if fit_avg_barcode[neuron, stim] == 1:\n",
    "            ax[2, stim].set_facecolor('#FCFBEE')\n",
    "        ax[2, stim].set_ylim(-3, 3)\n",
    "        ax[2, stim].axvline(x=7, color='r', linestyle='--')\n",
    "        ax[2, stim].axvline(x=14, color='g', linestyle='--')\n",
    "        ax[2, stim].axhline(y=0, color='grey', linestyle='--')\n",
    "        for trial in range(3):   \n",
    "            ax[2, stim].plot(x, ot_fit_avg_record[trial*21:trial*21+21], linestyle='-')\n",
    "\n",
    "        ot_record = pt_all[neuron, :, stim*21 : stim*21+21]\n",
    "        ax[3, stim].set_ylim(-1, 4)\n",
    "        ax[3, stim].axvline(x=7, color='r', linestyle='--')\n",
    "        ax[3, stim].axvline(x=14, color='g', linestyle='--')\n",
    "        for trial in range(3):   \n",
    "            ax[3, stim].plot(x, ot_record[trial], linestyle='-', color = 'lightgrey')\n",
    "        ax[3, stim].plot((3,3),(ci_baseline_record[neuron, 0, stim],ci_baseline_record[neuron, 1, stim]),'-',color='blue')\n",
    "        ax[3, stim].plot((10,10),(ci_on_record[neuron, 0, stim],ci_on_record[neuron, 1, stim]),'-',color='blue')\n",
    "        ax[3, stim].scatter(3, mean_baseline_record[neuron, stim], color = 'blue')\n",
    "        ax[3, stim].text(7, 3, f'p = {round(trial_avg_p[neuron, stim], 3)}', horizontalalignment='center', verticalalignment='center')\n",
    "        ax[3, stim].scatter(10, mean_on_record[neuron, stim], color = 'blue')\n",
    "\n",
    "        ot_record = pt_all[neuron, :, stim*21 : stim*21+21]\n",
    "        ax[4, stim].set_ylim(-1, 4)\n",
    "        ax[4, stim].axvline(x=7, color='r', linestyle='--')\n",
    "        ax[4, stim].axvline(x=14, color='g', linestyle='--')\n",
    "        for trial in range(3):   \n",
    "            ax[4, stim].plot(x, ot_record[trial], linestyle='-', color = 'lightgrey')\n",
    "            x_val = np.arange(7, 14, dtype = int)\n",
    "            y_val = slope_record[neuron, trial, stim] * x_val + intercept_record[neuron, trial, stim]\n",
    "            ax[4, stim].plot(x_val, y_val, '-', color = 'blue')\n",
    "        ax[4, stim].text(7, 3, f'p = {round(correlate_p[neuron, stim], 3)}', horizontalalignment='center', verticalalignment='center')\n",
    "    fig.show()\n",
    "    fig.savefig(f'neuron_plot/pt_ttest_{neuron}.png')"
   ]
  },
  {
   "cell_type": "markdown",
   "metadata": {},
   "source": [
    "### --------------------"
   ]
  },
  {
   "cell_type": "code",
   "execution_count": null,
   "metadata": {},
   "outputs": [],
   "source": [
    "index_responsive = np.where(barcode[:,0] > 0)\n",
    "print(index_responsive)"
   ]
  },
  {
   "cell_type": "code",
   "execution_count": null,
   "metadata": {},
   "outputs": [],
   "source": [
    "index_responsive = np.where(np.sum(barcode, axis = 1) > 0)\n",
    "motion_responsive_pt = pt_all[index_responsive]\n",
    "motion_responsive_est_avg = res_avg[index_responsive]\n",
    "motion_responsive_barcode = barcode[index_responsive]"
   ]
  },
  {
   "cell_type": "code",
   "execution_count": null,
   "metadata": {},
   "outputs": [],
   "source": [
    "print(np.shape(motion_responsive_pt))"
   ]
  },
  {
   "cell_type": "code",
   "execution_count": null,
   "metadata": {},
   "outputs": [],
   "source": [
    "index_right_left = np.where(barcode[:, 0] > 0)\n",
    "index_left_right = np.where(barcode[:, 1] > 0)\n",
    "index_left_left = np.where(barcode[:, 2] > 0)\n",
    "index_x_left = np.where(barcode[:, 3] > 0)\n",
    "index_left_x = np.where(barcode[:, 4] > 0)\n",
    "index_right_right = np.where(barcode[:, 5] > 0)\n",
    "index_right_x = np.where(barcode[:, 6] > 0)\n",
    "index_x_right = np.where(barcode[:, 7] > 0)\n"
   ]
  },
  {
   "cell_type": "code",
   "execution_count": null,
   "metadata": {},
   "outputs": [],
   "source": []
  },
  {
   "cell_type": "code",
   "execution_count": null,
   "metadata": {},
   "outputs": [],
   "source": [
    "t_stats = np.array(t_stats).T\n",
    "p_values = np.array(p_values).T\n",
    "print(np.shape(p_values))"
   ]
  },
  {
   "cell_type": "code",
   "execution_count": null,
   "metadata": {},
   "outputs": [],
   "source": [
    "ot_dict = {}\n",
    "ot_dict['iwd'] = {}\n",
    "ot_dict['owd'] = {}\n",
    "ot_dict['left'] = {}\n",
    "ot_dict['m_left'] = {}\n",
    "ot_dict['l_left'] = {}\n",
    "ot_dict['right'] = {}\n",
    "ot_dict['m_right'] = {}\n",
    "ot_dict['l_right'] = {}\n",
    "count = 0\n",
    "for item in ot_dict.keys():\n",
    "    index = np.where(barcode[:, count] > 0)\n",
    "    print(index)\n",
    "    (ot_dict[item])['index'] = index\n",
    "    (ot_dict[item])['ests'] = pt_all[index]\n",
    "    (ot_dict[item])['ests_avg'] = res_avg[index]\n",
    "    (ot_dict[item])['barcode'] = barcode[index]\n",
    "    count += 1\n",
    "print(ot_dict)"
   ]
  },
  {
   "cell_type": "code",
   "execution_count": null,
   "metadata": {},
   "outputs": [],
   "source": [
    "np.shape((ot_dict[item])['ests'])"
   ]
  },
  {
   "cell_type": "code",
   "execution_count": null,
   "metadata": {},
   "outputs": [],
   "source": [
    "import matplotlib.pyplot as plt\n",
    "num_neurons = np.shape(pt_all)[0]\n",
    "for count in range(3):\n",
    "    rows, cols = 100, 8\n",
    "    fig,ax = plt.subplots(rows, cols, figsize=(30, 300))\n",
    "    x = np.linspace(0, 20, num=21)\n",
    "    for neuron in range(100*count, min(100*(count + 1), num_neuron)):\n",
    "        for stim in range(cols):\n",
    "            ax[neuron, stim].text(15, 3, f'{round(p_values[neuron, stim], 3)}', horizontalalignment='center', verticalalignment='center')\n",
    "            ot_record = pt_all[neuron, :, stim*21 : stim*21+21]\n",
    "            ax[neuron, stim].set_ylim(-1, 4)\n",
    "            ax[neuron, stim].axvline(x=7, color='r', linestyle='--')\n",
    "            ax[neuron, stim].axvline(x=14, color='g', linestyle='--')\n",
    "            for trial in range(3):   \n",
    "                ax[neuron, stim].plot(x, ot_record[trial], linestyle='-')\n",
    "    fig.show()\n",
    "    fig.savefig(f'pt_ttest_{count}.png')"
   ]
  },
  {
   "cell_type": "code",
   "execution_count": null,
   "metadata": {},
   "outputs": [],
   "source": [
    "import matplotlib.pyplot as plt\n",
    "count = 0\n",
    "for item in ot_dict.keys():\n",
    "    print(item)\n",
    "    num_neuron = np.shape(ot_dict[item]['ests'])[0]\n",
    "    print(np.shape(ot_dict[item]['ests']))\n",
    "    rows, cols = num_neuron, 8\n",
    "    fig,ax = plt.subplots(rows, cols, figsize=(30, 3*num_neuron))\n",
    "    x = np.linspace(0, 20, num=21)\n",
    "    barcode = (ot_dict[item])['barcode']\n",
    "    ests_avg = (ot_dict[item])['ests_avg']\n",
    "    for neuron in range(num_neuron):\n",
    "        for stim in range(cols):\n",
    "            ax[neuron, stim].text(2, 3, f'{round(ests_avg[neuron, stim], 3)}', horizontalalignment='center', verticalalignment='center')\n",
    "            if barcode[neuron, stim] == 1:\n",
    "                ax[neuron, stim].set_facecolor('#FCFBEE')\n",
    "            ot_record = (ot_dict[item]['ests'])[neuron, :, stim*21 : stim*21+21]\n",
    "            for trial in range(3):   \n",
    "                ax[neuron, stim].plot(x, ot_record[trial], linestyle='-')\n",
    "                ax[neuron, stim].set_ylim(-1, 4)\n",
    "            ax[neuron, stim].axvline(x=7, color='r', linestyle='--')\n",
    "            ax[neuron, stim].axvline(x=14, color='g', linestyle='--')\n",
    "    #fig.show()\n",
    "    fig.savefig(f'pt_fitline_{item}.png')\n",
    "    count += 1"
   ]
  },
  {
   "cell_type": "code",
   "execution_count": null,
   "metadata": {},
   "outputs": [],
   "source": [
    "item = 'iwd'\n",
    "print(item)\n",
    "num_neuron = np.shape(ot_dict[item]['ests'])[0]\n",
    "print(np.shape(ot_dict[item]['ests']))\n",
    "rows, cols = num_neuron, 8\n",
    "fig,ax = plt.subplots(rows, cols, figsize=(30, 3*num_neuron))\n",
    "x = np.linspace(0, 20, num=21)\n",
    "barcode = (ot_dict[item])['barcode']\n",
    "ests_avg = (ot_dict[item])['ests_avg']\n",
    "for neuron in range(num_neuron):\n",
    "    for stim in range(cols):\n",
    "        ax[neuron, stim].text(2, 3, f'{round(ests_avg[neuron, stim], 3)}', horizontalalignment='center', verticalalignment='center')\n",
    "        ax[neuron, stim].text(15, 3, f'{round(ests_avg[neuron, stim], 3)}', horizontalalignment='center', verticalalignment='center')\n",
    "        if barcode[neuron, stim] == 1:\n",
    "            ax[neuron, stim].set_facecolor('#FCFBEE')\n",
    "        ot_record = (ot_dict[item]['ests'])[neuron, :, stim*21 : stim*21+21]\n",
    "        for trial in range(3):   \n",
    "            ax[neuron, stim].plot(x, ot_record[trial], linestyle='-')\n",
    "            ax[neuron, stim].set_ylim(-1, 4)\n",
    "            ax[neuron, stim].axvline(x=7, color='r', linestyle='--')\n",
    "#fig.show()\n",
    "fig.savefig(f'pt_fitline_{item}.png')\n",
    "count += 1"
   ]
  },
  {
   "cell_type": "code",
   "execution_count": null,
   "metadata": {},
   "outputs": [],
   "source": [
    "print(get[0])"
   ]
  },
  {
   "cell_type": "code",
   "execution_count": null,
   "metadata": {},
   "outputs": [],
   "source": []
  }
 ],
 "metadata": {
  "kernelspec": {
   "display_name": "improv",
   "language": "python",
   "name": "python3"
  },
  "language_info": {
   "codemirror_mode": {
    "name": "ipython",
    "version": 3
   },
   "file_extension": ".py",
   "mimetype": "text/x-python",
   "name": "python",
   "nbconvert_exporter": "python",
   "pygments_lexer": "ipython3",
   "version": "3.7.12"
  },
  "orig_nbformat": 4
 },
 "nbformat": 4,
 "nbformat_minor": 2
}
